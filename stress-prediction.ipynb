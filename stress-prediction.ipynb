{
 "cells": [
  {
   "cell_type": "code",
   "execution_count": 1,
   "id": "74512723",
   "metadata": {
    "_cell_guid": "b1076dfc-b9ad-4769-8c92-a6c4dae69d19",
    "_uuid": "8f2839f25d086af736a60e9eeb907d3b93b6e0e5",
    "execution": {
     "iopub.execute_input": "2024-04-28T19:20:03.899551Z",
     "iopub.status.busy": "2024-04-28T19:20:03.899248Z",
     "iopub.status.idle": "2024-04-28T19:20:04.635692Z",
     "shell.execute_reply": "2024-04-28T19:20:04.634552Z"
    },
    "papermill": {
     "duration": 0.75013,
     "end_time": "2024-04-28T19:20:04.637826",
     "exception": false,
     "start_time": "2024-04-28T19:20:03.887696",
     "status": "completed"
    },
    "tags": []
   },
   "outputs": [
    {
     "name": "stdout",
     "output_type": "stream",
     "text": [
      "/kaggle/input/human-stress-prediction/Stress.csv\n"
     ]
    }
   ],
   "source": [
    "import numpy as np \n",
    "import pandas as pd # data processing, CSV file I/O (e.g. pd.read_csv)\n",
    "\n",
    "import os\n",
    "for dirname, _, filenames in os.walk('/kaggle/input'):\n",
    "    for filename in filenames:\n",
    "        print(os.path.join(dirname, filename))\n",
    "\n"
   ]
  },
  {
   "cell_type": "code",
   "execution_count": 2,
   "id": "b8b00fa9",
   "metadata": {
    "execution": {
     "iopub.execute_input": "2024-04-28T19:20:04.659947Z",
     "iopub.status.busy": "2024-04-28T19:20:04.659549Z",
     "iopub.status.idle": "2024-04-28T19:20:14.790778Z",
     "shell.execute_reply": "2024-04-28T19:20:14.789781Z"
    },
    "papermill": {
     "duration": 10.144666,
     "end_time": "2024-04-28T19:20:14.793063",
     "exception": false,
     "start_time": "2024-04-28T19:20:04.648397",
     "status": "completed"
    },
    "tags": []
   },
   "outputs": [],
   "source": [
    "from sklearn.model_selection import StratifiedKFold\n",
    "from sklearn.naive_bayes import GaussianNB\n",
    "from sklearn.naive_bayes import MultinomialNB\n",
    "\n",
    "from sklearn.metrics import accuracy_score\n",
    "\n",
    "import numpy as np\n",
    "from sklearn.feature_extraction.text import TfidfVectorizer\n",
    "import gensim\n",
    "from gensim.models import Word2Vec\n",
    "from sklearn.model_selection import train_test_split\n",
    "import gensim.downloader as api\n",
    "\n"
   ]
  },
  {
   "cell_type": "markdown",
   "id": "0544abf2",
   "metadata": {
    "papermill": {
     "duration": 0.010086,
     "end_time": "2024-04-28T19:20:14.813862",
     "exception": false,
     "start_time": "2024-04-28T19:20:14.803776",
     "status": "completed"
    },
    "tags": []
   },
   "source": [
    "# **Importing data**"
   ]
  },
  {
   "cell_type": "code",
   "execution_count": 3,
   "id": "2fe6aa33",
   "metadata": {
    "execution": {
     "iopub.execute_input": "2024-04-28T19:20:14.836313Z",
     "iopub.status.busy": "2024-04-28T19:20:14.835868Z",
     "iopub.status.idle": "2024-04-28T19:20:14.902837Z",
     "shell.execute_reply": "2024-04-28T19:20:14.901967Z"
    },
    "papermill": {
     "duration": 0.080856,
     "end_time": "2024-04-28T19:20:14.904787",
     "exception": false,
     "start_time": "2024-04-28T19:20:14.823931",
     "status": "completed"
    },
    "tags": []
   },
   "outputs": [
    {
     "data": {
      "text/html": [
       "<div>\n",
       "<style scoped>\n",
       "    .dataframe tbody tr th:only-of-type {\n",
       "        vertical-align: middle;\n",
       "    }\n",
       "\n",
       "    .dataframe tbody tr th {\n",
       "        vertical-align: top;\n",
       "    }\n",
       "\n",
       "    .dataframe thead th {\n",
       "        text-align: right;\n",
       "    }\n",
       "</style>\n",
       "<table border=\"1\" class=\"dataframe\">\n",
       "  <thead>\n",
       "    <tr style=\"text-align: right;\">\n",
       "      <th></th>\n",
       "      <th>subreddit</th>\n",
       "      <th>post_id</th>\n",
       "      <th>sentence_range</th>\n",
       "      <th>text</th>\n",
       "      <th>label</th>\n",
       "      <th>confidence</th>\n",
       "      <th>social_timestamp</th>\n",
       "    </tr>\n",
       "  </thead>\n",
       "  <tbody>\n",
       "    <tr>\n",
       "      <th>0</th>\n",
       "      <td>ptsd</td>\n",
       "      <td>8601tu</td>\n",
       "      <td>(15, 20)</td>\n",
       "      <td>He said he had not felt that way before, sugge...</td>\n",
       "      <td>1</td>\n",
       "      <td>0.8</td>\n",
       "      <td>1521614353</td>\n",
       "    </tr>\n",
       "    <tr>\n",
       "      <th>1</th>\n",
       "      <td>assistance</td>\n",
       "      <td>8lbrx9</td>\n",
       "      <td>(0, 5)</td>\n",
       "      <td>Hey there r/assistance, Not sure if this is th...</td>\n",
       "      <td>0</td>\n",
       "      <td>1.0</td>\n",
       "      <td>1527009817</td>\n",
       "    </tr>\n",
       "    <tr>\n",
       "      <th>2</th>\n",
       "      <td>ptsd</td>\n",
       "      <td>9ch1zh</td>\n",
       "      <td>(15, 20)</td>\n",
       "      <td>My mom then hit me with the newspaper and it s...</td>\n",
       "      <td>1</td>\n",
       "      <td>0.8</td>\n",
       "      <td>1535935605</td>\n",
       "    </tr>\n",
       "    <tr>\n",
       "      <th>3</th>\n",
       "      <td>relationships</td>\n",
       "      <td>7rorpp</td>\n",
       "      <td>[5, 10]</td>\n",
       "      <td>until i met my new boyfriend, he is amazing, h...</td>\n",
       "      <td>1</td>\n",
       "      <td>0.6</td>\n",
       "      <td>1516429555</td>\n",
       "    </tr>\n",
       "    <tr>\n",
       "      <th>4</th>\n",
       "      <td>survivorsofabuse</td>\n",
       "      <td>9p2gbc</td>\n",
       "      <td>[0, 5]</td>\n",
       "      <td>October is Domestic Violence Awareness Month a...</td>\n",
       "      <td>1</td>\n",
       "      <td>0.8</td>\n",
       "      <td>1539809005</td>\n",
       "    </tr>\n",
       "  </tbody>\n",
       "</table>\n",
       "</div>"
      ],
      "text/plain": [
       "          subreddit post_id sentence_range  \\\n",
       "0              ptsd  8601tu       (15, 20)   \n",
       "1        assistance  8lbrx9         (0, 5)   \n",
       "2              ptsd  9ch1zh       (15, 20)   \n",
       "3     relationships  7rorpp        [5, 10]   \n",
       "4  survivorsofabuse  9p2gbc         [0, 5]   \n",
       "\n",
       "                                                text  label  confidence  \\\n",
       "0  He said he had not felt that way before, sugge...      1         0.8   \n",
       "1  Hey there r/assistance, Not sure if this is th...      0         1.0   \n",
       "2  My mom then hit me with the newspaper and it s...      1         0.8   \n",
       "3  until i met my new boyfriend, he is amazing, h...      1         0.6   \n",
       "4  October is Domestic Violence Awareness Month a...      1         0.8   \n",
       "\n",
       "   social_timestamp  \n",
       "0        1521614353  \n",
       "1        1527009817  \n",
       "2        1535935605  \n",
       "3        1516429555  \n",
       "4        1539809005  "
      ]
     },
     "execution_count": 3,
     "metadata": {},
     "output_type": "execute_result"
    }
   ],
   "source": [
    "stress_data_path = '../input/human-stress-prediction/Stress.csv'\n",
    "stress_data = pd.read_csv(stress_data_path)\n",
    "stress_data.head()"
   ]
  },
  {
   "cell_type": "code",
   "execution_count": 4,
   "id": "ff189779",
   "metadata": {
    "execution": {
     "iopub.execute_input": "2024-04-28T19:20:14.927680Z",
     "iopub.status.busy": "2024-04-28T19:20:14.927378Z",
     "iopub.status.idle": "2024-04-28T19:20:14.935055Z",
     "shell.execute_reply": "2024-04-28T19:20:14.934212Z"
    },
    "papermill": {
     "duration": 0.020983,
     "end_time": "2024-04-28T19:20:14.937061",
     "exception": false,
     "start_time": "2024-04-28T19:20:14.916078",
     "status": "completed"
    },
    "tags": []
   },
   "outputs": [
    {
     "data": {
      "text/plain": [
       "292"
      ]
     },
     "execution_count": 4,
     "metadata": {},
     "output_type": "execute_result"
    }
   ],
   "source": [
    "longest_post = max(stress_data.text, key=len)\n",
    "len(longest_post.split()) #nr of words in the longest post"
   ]
  },
  {
   "cell_type": "code",
   "execution_count": 5,
   "id": "df7763d5",
   "metadata": {
    "execution": {
     "iopub.execute_input": "2024-04-28T19:20:14.959454Z",
     "iopub.status.busy": "2024-04-28T19:20:14.959179Z",
     "iopub.status.idle": "2024-04-28T19:20:14.968072Z",
     "shell.execute_reply": "2024-04-28T19:20:14.967270Z"
    },
    "papermill": {
     "duration": 0.022081,
     "end_time": "2024-04-28T19:20:14.969874",
     "exception": false,
     "start_time": "2024-04-28T19:20:14.947793",
     "status": "completed"
    },
    "tags": []
   },
   "outputs": [],
   "source": [
    "post_lengths = stress_data.text.apply(len) #lengths of all posts\n",
    "\n",
    "post_lengths.mean() #avg length\n",
    "\n",
    "posts = stress_data['text'].tolist()  # extract the 'posts' column as a list\n",
    "labels = stress_data['label'].tolist()  # extract the 'labels' column as a list\n",
    "\n",
    "# combine the two lists into a list of tuples\n",
    "data = list(zip(posts, labels))\n"
   ]
  },
  {
   "cell_type": "code",
   "execution_count": 6,
   "id": "0f5829ea",
   "metadata": {
    "execution": {
     "iopub.execute_input": "2024-04-28T19:20:14.992047Z",
     "iopub.status.busy": "2024-04-28T19:20:14.991772Z",
     "iopub.status.idle": "2024-04-28T19:20:14.997084Z",
     "shell.execute_reply": "2024-04-28T19:20:14.996270Z"
    },
    "papermill": {
     "duration": 0.018738,
     "end_time": "2024-04-28T19:20:14.999120",
     "exception": false,
     "start_time": "2024-04-28T19:20:14.980382",
     "status": "completed"
    },
    "tags": []
   },
   "outputs": [
    {
     "data": {
      "text/plain": [
       "('He said he had not felt that way before, suggeted I go rest and so ..TRIGGER AHEAD IF YOUI\\'RE A HYPOCONDRIAC LIKE ME: i decide to look up \"feelings of doom\" in hopes of maybe getting sucked into some rabbit hole of ludicrous conspiracy, a stupid \"are you psychic\" test or new age b.s., something I could even laugh at down the road. No, I ended up reading that this sense of doom can be indicative of various health ailments; one of which I am prone to.. So on top of my \"doom\" to my gloom..I am now f\\'n worried about my heart. I do happen to have a physical in 48 hours.',\n",
       " 1)"
      ]
     },
     "execution_count": 6,
     "metadata": {},
     "output_type": "execute_result"
    }
   ],
   "source": [
    "data[0]"
   ]
  },
  {
   "cell_type": "markdown",
   "id": "66d02fec",
   "metadata": {
    "papermill": {
     "duration": 0.010697,
     "end_time": "2024-04-28T19:20:15.020976",
     "exception": false,
     "start_time": "2024-04-28T19:20:15.010279",
     "status": "completed"
    },
    "tags": []
   },
   "source": [
    "# **Text Preprocessing**"
   ]
  },
  {
   "cell_type": "code",
   "execution_count": 7,
   "id": "59f23134",
   "metadata": {
    "execution": {
     "iopub.execute_input": "2024-04-28T19:20:15.044082Z",
     "iopub.status.busy": "2024-04-28T19:20:15.043817Z",
     "iopub.status.idle": "2024-04-28T19:20:15.047409Z",
     "shell.execute_reply": "2024-04-28T19:20:15.046568Z"
    },
    "papermill": {
     "duration": 0.01734,
     "end_time": "2024-04-28T19:20:15.049283",
     "exception": false,
     "start_time": "2024-04-28T19:20:15.031943",
     "status": "completed"
    },
    "tags": []
   },
   "outputs": [],
   "source": [
    "\n",
    "#removing special characters \n",
    "#def remove_spec(text):\n",
    " #   return re.sub(r'[^a-zA-Z0-9\\s]', '', text)\n",
    "\n",
    "#clean_posts = list(map(remove_spec, stress_data.text))\n"
   ]
  },
  {
   "cell_type": "code",
   "execution_count": 8,
   "id": "40987a84",
   "metadata": {
    "execution": {
     "iopub.execute_input": "2024-04-28T19:20:15.072052Z",
     "iopub.status.busy": "2024-04-28T19:20:15.071790Z",
     "iopub.status.idle": "2024-04-28T19:20:27.688108Z",
     "shell.execute_reply": "2024-04-28T19:20:27.687312Z"
    },
    "papermill": {
     "duration": 12.630463,
     "end_time": "2024-04-28T19:20:27.690459",
     "exception": false,
     "start_time": "2024-04-28T19:20:15.059996",
     "status": "completed"
    },
    "tags": []
   },
   "outputs": [],
   "source": [
    "import spacy\n",
    "nlp = spacy.load(\"en_core_web_lg\")\n",
    "\n",
    "def preprocess_and_vectorize(post):\n",
    "    doc = nlp(post) #fit the spacy model\n",
    "    \n",
    "    clean_tokens = []\n",
    "    for token in doc:\n",
    "        if token.is_punct or token.is_stop:\n",
    "            continue #do not include punctuation chars and stopwords\n",
    "        clean_tokens.append(token.lemma_)\n",
    "    \n",
    "    return clean_tokens\n"
   ]
  },
  {
   "cell_type": "code",
   "execution_count": 9,
   "id": "c4131303",
   "metadata": {
    "execution": {
     "iopub.execute_input": "2024-04-28T19:20:27.714055Z",
     "iopub.status.busy": "2024-04-28T19:20:27.713241Z",
     "iopub.status.idle": "2024-04-28T19:20:27.719075Z",
     "shell.execute_reply": "2024-04-28T19:20:27.718235Z"
    },
    "papermill": {
     "duration": 0.019267,
     "end_time": "2024-04-28T19:20:27.720930",
     "exception": false,
     "start_time": "2024-04-28T19:20:27.701663",
     "status": "completed"
    },
    "tags": []
   },
   "outputs": [
    {
     "data": {
      "text/plain": [
       "('He said he had not felt that way before, suggeted I go rest and so ..TRIGGER AHEAD IF YOUI\\'RE A HYPOCONDRIAC LIKE ME: i decide to look up \"feelings of doom\" in hopes of maybe getting sucked into some rabbit hole of ludicrous conspiracy, a stupid \"are you psychic\" test or new age b.s., something I could even laugh at down the road. No, I ended up reading that this sense of doom can be indicative of various health ailments; one of which I am prone to.. So on top of my \"doom\" to my gloom..I am now f\\'n worried about my heart. I do happen to have a physical in 48 hours.',\n",
       " 1)"
      ]
     },
     "execution_count": 9,
     "metadata": {},
     "output_type": "execute_result"
    }
   ],
   "source": [
    "data[0]"
   ]
  },
  {
   "cell_type": "code",
   "execution_count": 10,
   "id": "fc10860b",
   "metadata": {
    "execution": {
     "iopub.execute_input": "2024-04-28T19:20:27.743414Z",
     "iopub.status.busy": "2024-04-28T19:20:27.743152Z",
     "iopub.status.idle": "2024-04-28T19:21:21.942683Z",
     "shell.execute_reply": "2024-04-28T19:21:21.941850Z"
    },
    "papermill": {
     "duration": 54.213508,
     "end_time": "2024-04-28T19:21:21.945255",
     "exception": false,
     "start_time": "2024-04-28T19:20:27.731747",
     "status": "completed"
    },
    "tags": []
   },
   "outputs": [],
   "source": [
    "tokenized_data = []\n",
    "label_data = []\n",
    "for post,label in data: \n",
    "    tokenized_post = preprocess_and_vectorize(post)\n",
    "    if tokenized_post:\n",
    "        tokenized_data.append(tokenized_post)\n",
    "        label_data.append(label)\n"
   ]
  },
  {
   "cell_type": "code",
   "execution_count": 11,
   "id": "bf409ce7",
   "metadata": {
    "execution": {
     "iopub.execute_input": "2024-04-28T19:21:21.970432Z",
     "iopub.status.busy": "2024-04-28T19:21:21.970142Z",
     "iopub.status.idle": "2024-04-28T19:21:21.975201Z",
     "shell.execute_reply": "2024-04-28T19:21:21.974360Z"
    },
    "papermill": {
     "duration": 0.019413,
     "end_time": "2024-04-28T19:21:21.977258",
     "exception": false,
     "start_time": "2024-04-28T19:21:21.957845",
     "status": "completed"
    },
    "tags": []
   },
   "outputs": [
    {
     "name": "stdout",
     "output_type": "stream",
     "text": [
      "['say', 'feel', 'way', 'suggete', 'rest', 'TRIGGER', 'AHEAD', \"YOUI'RE\", 'HYPOCONDRIAC', 'like', 'decide', 'look', 'feeling', 'doom', 'hope', 'maybe', 'getting', 'suck', 'rabbit', 'hole', 'ludicrous', 'conspiracy', 'stupid', 'psychic', 'test', 'new', 'age', 'b.s', 'laugh', 'road', 'end', 'read', 'sense', 'doom', 'indicative', 'health', 'ailment', 'prone', 'doom', 'gloom', \"f'n\", 'worried', 'heart', 'happen', 'physical', '48', 'hour']\n",
      "1\n"
     ]
    }
   ],
   "source": [
    "print(tokenized_data[0])\n",
    "print(label_data[0])\n"
   ]
  },
  {
   "cell_type": "code",
   "execution_count": null,
   "id": "b965f680",
   "metadata": {
    "papermill": {
     "duration": 0.010848,
     "end_time": "2024-04-28T19:21:21.999157",
     "exception": false,
     "start_time": "2024-04-28T19:21:21.988309",
     "status": "completed"
    },
    "tags": []
   },
   "outputs": [],
   "source": []
  },
  {
   "cell_type": "markdown",
   "id": "8763f211",
   "metadata": {
    "papermill": {
     "duration": 0.011515,
     "end_time": "2024-04-28T19:21:22.022286",
     "exception": false,
     "start_time": "2024-04-28T19:21:22.010771",
     "status": "completed"
    },
    "tags": []
   },
   "source": [
    "# **Splitting Data**"
   ]
  },
  {
   "cell_type": "code",
   "execution_count": 12,
   "id": "5e2bc5b6",
   "metadata": {
    "execution": {
     "iopub.execute_input": "2024-04-28T19:21:22.046889Z",
     "iopub.status.busy": "2024-04-28T19:21:22.046591Z",
     "iopub.status.idle": "2024-04-28T19:21:22.053809Z",
     "shell.execute_reply": "2024-04-28T19:21:22.053055Z"
    },
    "papermill": {
     "duration": 0.021731,
     "end_time": "2024-04-28T19:21:22.055795",
     "exception": false,
     "start_time": "2024-04-28T19:21:22.034064",
     "status": "completed"
    },
    "tags": []
   },
   "outputs": [],
   "source": [
    "# split data into training and testing sets\n",
    "X_train, X_test, y_train, y_test = train_test_split(\n",
    "    tokenized_data, \n",
    "    label_data, \n",
    "    train_size=0.8, \n",
    "    random_state=4\n",
    ")\n",
    "\n"
   ]
  },
  {
   "cell_type": "code",
   "execution_count": 13,
   "id": "84122de8",
   "metadata": {
    "execution": {
     "iopub.execute_input": "2024-04-28T19:21:22.079940Z",
     "iopub.status.busy": "2024-04-28T19:21:22.079651Z",
     "iopub.status.idle": "2024-04-28T19:21:22.083671Z",
     "shell.execute_reply": "2024-04-28T19:21:22.082754Z"
    },
    "papermill": {
     "duration": 0.018296,
     "end_time": "2024-04-28T19:21:22.085650",
     "exception": false,
     "start_time": "2024-04-28T19:21:22.067354",
     "status": "completed"
    },
    "tags": []
   },
   "outputs": [],
   "source": [
    "##X = clean_posts #attributes according to which we classify\n",
    "#y = stress_data.label #class\n",
    "# Convert X and y to NumPy arrays\n",
    "\n",
    "# Initialize the stratified k-fold cross-validation object\n",
    "#skf = StratifiedKFold(n_splits=10, shuffle=True, random_state=0)\n",
    "#split_data = skf.split(X, y)"
   ]
  },
  {
   "cell_type": "markdown",
   "id": "4106273b",
   "metadata": {
    "papermill": {
     "duration": 0.010569,
     "end_time": "2024-04-28T19:21:22.107352",
     "exception": false,
     "start_time": "2024-04-28T19:21:22.096783",
     "status": "completed"
    },
    "tags": []
   },
   "source": [
    "Vectorizing train data"
   ]
  },
  {
   "cell_type": "markdown",
   "id": "9b6b8e9a",
   "metadata": {
    "papermill": {
     "duration": 0.010635,
     "end_time": "2024-04-28T19:21:22.128796",
     "exception": false,
     "start_time": "2024-04-28T19:21:22.118161",
     "status": "completed"
    },
    "tags": []
   },
   "source": [
    "# **Bag of Words**"
   ]
  },
  {
   "cell_type": "markdown",
   "id": "d36dd210",
   "metadata": {
    "execution": {
     "iopub.execute_input": "2024-04-28T19:13:44.493169Z",
     "iopub.status.busy": "2024-04-28T19:13:44.492769Z",
     "iopub.status.idle": "2024-04-28T19:13:44.582899Z",
     "shell.execute_reply": "2024-04-28T19:13:44.581138Z",
     "shell.execute_reply.started": "2024-04-28T19:13:44.493132Z"
    },
    "papermill": {
     "duration": 0.010654,
     "end_time": "2024-04-28T19:21:22.150449",
     "exception": false,
     "start_time": "2024-04-28T19:21:22.139795",
     "status": "completed"
    },
    "tags": []
   },
   "source": [
    "# create the transform\n",
    "tf_vectorizer=TfidfVectorizer(min_df=0,max_df=1,use_idf=True,ngram_range=(1,1))\n",
    "\n",
    "# tokenize and build vocab\n",
    "bow_train = tf_vectorizer.fit_transform(X_train)\n",
    "# encode document\n",
    "bow_test = tf_vectorizer.transform(X_test)\n",
    "# summarize\n",
    "#print(sorted(vectorizer.vocabulary_))\n",
    "print('BOW train: ',bow_train.shape)\n",
    "print('BOW test: ',bow_test.shape)"
   ]
  },
  {
   "cell_type": "markdown",
   "id": "66a12bcc",
   "metadata": {
    "execution": {
     "iopub.execute_input": "2024-04-03T13:59:12.455722Z",
     "iopub.status.busy": "2024-04-03T13:59:12.455402Z",
     "iopub.status.idle": "2024-04-03T13:59:12.814247Z",
     "shell.execute_reply": "2024-04-03T13:59:12.812729Z",
     "shell.execute_reply.started": "2024-04-03T13:59:12.455695Z"
    },
    "papermill": {
     "duration": 0.010501,
     "end_time": "2024-04-28T19:21:22.171751",
     "exception": false,
     "start_time": "2024-04-28T19:21:22.161250",
     "status": "completed"
    },
    "tags": []
   },
   "source": [
    "print(len(vectorizer.idf_))\n",
    "\n",
    "# summarize encoded vector\n",
    "print(vectorized_posts[0].shape)\n",
    "print(vectorized_posts[0].toarray())\n"
   ]
  },
  {
   "cell_type": "code",
   "execution_count": 14,
   "id": "fff892c7",
   "metadata": {
    "execution": {
     "iopub.execute_input": "2024-04-28T19:21:22.194413Z",
     "iopub.status.busy": "2024-04-28T19:21:22.194162Z",
     "iopub.status.idle": "2024-04-28T19:21:22.197710Z",
     "shell.execute_reply": "2024-04-28T19:21:22.196853Z"
    },
    "papermill": {
     "duration": 0.016909,
     "end_time": "2024-04-28T19:21:22.199546",
     "exception": false,
     "start_time": "2024-04-28T19:21:22.182637",
     "status": "completed"
    },
    "tags": []
   },
   "outputs": [],
   "source": [
    "#print(len(vectorized_posts))\n",
    "#print(len(stress_data))\n"
   ]
  },
  {
   "cell_type": "markdown",
   "id": "f219e87d",
   "metadata": {
    "papermill": {
     "duration": 0.010539,
     "end_time": "2024-04-28T19:21:22.220926",
     "exception": false,
     "start_time": "2024-04-28T19:21:22.210387",
     "status": "completed"
    },
    "tags": []
   },
   "source": [
    "# **Bag of N-Grams**"
   ]
  },
  {
   "cell_type": "markdown",
   "id": "4edefdef",
   "metadata": {
    "execution": {
     "iopub.execute_input": "2024-04-03T14:05:51.029474Z",
     "iopub.status.busy": "2024-04-03T14:05:51.029054Z",
     "iopub.status.idle": "2024-04-03T14:05:51.511641Z",
     "shell.execute_reply": "2024-04-03T14:05:51.510403Z",
     "shell.execute_reply.started": "2024-04-03T14:05:51.029442Z"
    },
    "papermill": {
     "duration": 0.010582,
     "end_time": "2024-04-28T19:21:22.242295",
     "exception": false,
     "start_time": "2024-04-28T19:21:22.231713",
     "status": "completed"
    },
    "tags": []
   },
   "source": [
    "# create the transform\n",
    "tf_vectorizer2 = TfidfVectorizer(analyzer='word', ngram_range=(7, 7)) #instead of separate words treat them as 7-grams, groups of len 7\n",
    "# tokenize and build vocab\n",
    "bon_train = tf_vectorizer2.fit_transform(X_train)\n",
    "\n",
    "# encode document\n",
    "bon_test = tf_vectorizer2.transform(X_test)\n",
    "# summarize\n",
    "#print(sorted(vectorizer.vocabulary_))\n",
    "print('BON train: ',bow_train.shape)\n",
    "print('BON test: ',bow_test.shape)\n",
    "\n"
   ]
  },
  {
   "cell_type": "markdown",
   "id": "1052a126",
   "metadata": {
    "papermill": {
     "duration": 0.010542,
     "end_time": "2024-04-28T19:21:22.263681",
     "exception": false,
     "start_time": "2024-04-28T19:21:22.253139",
     "status": "completed"
    },
    "tags": []
   },
   "source": [
    "# **Gensim's Word2Vec**"
   ]
  },
  {
   "cell_type": "code",
   "execution_count": 15,
   "id": "8363474c",
   "metadata": {
    "execution": {
     "iopub.execute_input": "2024-04-28T19:21:22.286395Z",
     "iopub.status.busy": "2024-04-28T19:21:22.286126Z",
     "iopub.status.idle": "2024-04-28T19:22:20.175679Z",
     "shell.execute_reply": "2024-04-28T19:22:20.174877Z"
    },
    "papermill": {
     "duration": 57.903723,
     "end_time": "2024-04-28T19:22:20.178163",
     "exception": false,
     "start_time": "2024-04-28T19:21:22.274440",
     "status": "completed"
    },
    "tags": []
   },
   "outputs": [
    {
     "name": "stdout",
     "output_type": "stream",
     "text": [
      "[==================================================] 100.0% 104.8/104.8MB downloaded\n"
     ]
    }
   ],
   "source": [
    "#vectorized_w2v = [gensim.utils.simple_preprocess(text) for text in clean_posts]\n",
    "#len(vectorized_w2v)\n",
    "\n",
    "wv = api.load(\"glove-twitter-25\")\n"
   ]
  },
  {
   "cell_type": "code",
   "execution_count": 16,
   "id": "4df48ec7",
   "metadata": {
    "execution": {
     "iopub.execute_input": "2024-04-28T19:22:22.343306Z",
     "iopub.status.busy": "2024-04-28T19:22:22.342471Z",
     "iopub.status.idle": "2024-04-28T19:22:22.415489Z",
     "shell.execute_reply": "2024-04-28T19:22:22.414559Z"
    },
    "papermill": {
     "duration": 1.180291,
     "end_time": "2024-04-28T19:22:22.417629",
     "exception": false,
     "start_time": "2024-04-28T19:22:21.237338",
     "status": "completed"
    },
    "tags": []
   },
   "outputs": [
    {
     "data": {
      "text/plain": [
       "array([-0.07963082,  0.02786993, -0.1118979 ,  0.07432982,  0.06536698,\n",
       "        0.00142367,  0.09981715, -0.21375556,  0.06222064,  0.04254569,\n",
       "        0.02311464,  0.09475099, -0.5490071 ,  0.01281391,  0.07900295,\n",
       "        0.06116072,  0.04513504,  0.00119624,  0.04749446, -0.08894351,\n",
       "       -0.07666157,  0.10886507,  0.12574716, -0.00554666, -0.09551053],\n",
       "      dtype=float32)"
      ]
     },
     "execution_count": 16,
     "metadata": {},
     "output_type": "execute_result"
    }
   ],
   "source": [
    "wv.get_mean_vector(X_train[2])\n"
   ]
  },
  {
   "cell_type": "code",
   "execution_count": null,
   "id": "4724e1ba",
   "metadata": {
    "execution": {
     "iopub.execute_input": "2024-04-28T18:58:47.744912Z",
     "iopub.status.busy": "2024-04-28T18:58:47.744528Z",
     "iopub.status.idle": "2024-04-28T18:58:47.752543Z",
     "shell.execute_reply": "2024-04-28T18:58:47.751500Z",
     "shell.execute_reply.started": "2024-04-28T18:58:47.744881Z"
    },
    "papermill": {
     "duration": 1.054991,
     "end_time": "2024-04-28T19:22:24.576471",
     "exception": false,
     "start_time": "2024-04-28T19:22:23.521480",
     "status": "completed"
    },
    "tags": []
   },
   "outputs": [],
   "source": []
  },
  {
   "cell_type": "code",
   "execution_count": 17,
   "id": "b7a6a52e",
   "metadata": {
    "execution": {
     "iopub.execute_input": "2024-04-28T19:22:26.738383Z",
     "iopub.status.busy": "2024-04-28T19:22:26.738006Z",
     "iopub.status.idle": "2024-04-28T19:22:27.452333Z",
     "shell.execute_reply": "2024-04-28T19:22:27.451421Z"
    },
    "papermill": {
     "duration": 1.776808,
     "end_time": "2024-04-28T19:22:27.454547",
     "exception": false,
     "start_time": "2024-04-28T19:22:25.677739",
     "status": "completed"
    },
    "tags": []
   },
   "outputs": [
    {
     "data": {
      "text/plain": [
       "array([-0.07963082,  0.02786993, -0.1118979 ,  0.07432982,  0.06536698,\n",
       "        0.00142367,  0.09981715, -0.21375556,  0.06222064,  0.04254569,\n",
       "        0.02311464,  0.09475099, -0.5490071 ,  0.01281391,  0.07900295,\n",
       "        0.06116072,  0.04513504,  0.00119624,  0.04749446, -0.08894351,\n",
       "       -0.07666157,  0.10886507,  0.12574716, -0.00554666, -0.09551053],\n",
       "      dtype=float32)"
      ]
     },
     "execution_count": 17,
     "metadata": {},
     "output_type": "execute_result"
    }
   ],
   "source": [
    "wv_train_data = []\n",
    "for tokenized_post in X_train:\n",
    "    if tokenized_post:  #some may be empty bcs of stopword removal\n",
    "        wv_train_data.append(wv.get_mean_vector(tokenized_post)) #get mean vector embedding for every post\n",
    "wv_train_data[2]"
   ]
  },
  {
   "cell_type": "code",
   "execution_count": null,
   "id": "e595fd5c",
   "metadata": {
    "execution": {
     "iopub.execute_input": "2024-04-28T18:41:18.574654Z",
     "iopub.status.busy": "2024-04-28T18:41:18.573869Z",
     "iopub.status.idle": "2024-04-28T18:41:18.581806Z",
     "shell.execute_reply": "2024-04-28T18:41:18.581004Z",
     "shell.execute_reply.started": "2024-04-28T18:41:18.574619Z"
    },
    "papermill": {
     "duration": 1.072694,
     "end_time": "2024-04-28T19:22:29.686223",
     "exception": false,
     "start_time": "2024-04-28T19:22:28.613529",
     "status": "completed"
    },
    "tags": []
   },
   "outputs": [],
   "source": []
  },
  {
   "cell_type": "code",
   "execution_count": null,
   "id": "b72abf13",
   "metadata": {
    "execution": {
     "iopub.execute_input": "2024-04-28T18:26:12.769046Z",
     "iopub.status.busy": "2024-04-28T18:26:12.768697Z",
     "iopub.status.idle": "2024-04-28T18:26:12.777333Z",
     "shell.execute_reply": "2024-04-28T18:26:12.776161Z",
     "shell.execute_reply.started": "2024-04-28T18:26:12.769020Z"
    },
    "papermill": {
     "duration": 1.048516,
     "end_time": "2024-04-28T19:22:31.832420",
     "exception": false,
     "start_time": "2024-04-28T19:22:30.783904",
     "status": "completed"
    },
    "tags": []
   },
   "outputs": [],
   "source": []
  },
  {
   "cell_type": "code",
   "execution_count": null,
   "id": "75ec04c9",
   "metadata": {
    "papermill": {
     "duration": 1.042602,
     "end_time": "2024-04-28T19:22:33.978760",
     "exception": false,
     "start_time": "2024-04-28T19:22:32.936158",
     "status": "completed"
    },
    "tags": []
   },
   "outputs": [],
   "source": []
  },
  {
   "cell_type": "markdown",
   "id": "5a335974",
   "metadata": {
    "papermill": {
     "duration": 1.042322,
     "end_time": "2024-04-28T19:22:36.116482",
     "exception": false,
     "start_time": "2024-04-28T19:22:35.074160",
     "status": "completed"
    },
    "tags": []
   },
   "source": [
    "# **Naive Bayes**\n",
    "\n",
    "* word2vec 0.6948853615520282\n"
   ]
  },
  {
   "cell_type": "code",
   "execution_count": null,
   "id": "2e1b597c",
   "metadata": {
    "papermill": {
     "duration": 1.12695,
     "end_time": "2024-04-28T19:22:38.356581",
     "exception": false,
     "start_time": "2024-04-28T19:22:37.229631",
     "status": "completed"
    },
    "tags": []
   },
   "outputs": [],
   "source": []
  },
  {
   "cell_type": "code",
   "execution_count": 18,
   "id": "59c5a0eb",
   "metadata": {
    "execution": {
     "iopub.execute_input": "2024-04-28T19:22:40.521310Z",
     "iopub.status.busy": "2024-04-28T19:22:40.520957Z",
     "iopub.status.idle": "2024-04-28T19:22:40.534756Z",
     "shell.execute_reply": "2024-04-28T19:22:40.533881Z"
    },
    "papermill": {
     "duration": 1.118076,
     "end_time": "2024-04-28T19:22:40.536790",
     "exception": false,
     "start_time": "2024-04-28T19:22:39.418714",
     "status": "completed"
    },
    "tags": []
   },
   "outputs": [
    {
     "data": {
      "text/html": [
       "<style>#sk-container-id-1 {color: black;background-color: white;}#sk-container-id-1 pre{padding: 0;}#sk-container-id-1 div.sk-toggleable {background-color: white;}#sk-container-id-1 label.sk-toggleable__label {cursor: pointer;display: block;width: 100%;margin-bottom: 0;padding: 0.3em;box-sizing: border-box;text-align: center;}#sk-container-id-1 label.sk-toggleable__label-arrow:before {content: \"▸\";float: left;margin-right: 0.25em;color: #696969;}#sk-container-id-1 label.sk-toggleable__label-arrow:hover:before {color: black;}#sk-container-id-1 div.sk-estimator:hover label.sk-toggleable__label-arrow:before {color: black;}#sk-container-id-1 div.sk-toggleable__content {max-height: 0;max-width: 0;overflow: hidden;text-align: left;background-color: #f0f8ff;}#sk-container-id-1 div.sk-toggleable__content pre {margin: 0.2em;color: black;border-radius: 0.25em;background-color: #f0f8ff;}#sk-container-id-1 input.sk-toggleable__control:checked~div.sk-toggleable__content {max-height: 200px;max-width: 100%;overflow: auto;}#sk-container-id-1 input.sk-toggleable__control:checked~label.sk-toggleable__label-arrow:before {content: \"▾\";}#sk-container-id-1 div.sk-estimator input.sk-toggleable__control:checked~label.sk-toggleable__label {background-color: #d4ebff;}#sk-container-id-1 div.sk-label input.sk-toggleable__control:checked~label.sk-toggleable__label {background-color: #d4ebff;}#sk-container-id-1 input.sk-hidden--visually {border: 0;clip: rect(1px 1px 1px 1px);clip: rect(1px, 1px, 1px, 1px);height: 1px;margin: -1px;overflow: hidden;padding: 0;position: absolute;width: 1px;}#sk-container-id-1 div.sk-estimator {font-family: monospace;background-color: #f0f8ff;border: 1px dotted black;border-radius: 0.25em;box-sizing: border-box;margin-bottom: 0.5em;}#sk-container-id-1 div.sk-estimator:hover {background-color: #d4ebff;}#sk-container-id-1 div.sk-parallel-item::after {content: \"\";width: 100%;border-bottom: 1px solid gray;flex-grow: 1;}#sk-container-id-1 div.sk-label:hover label.sk-toggleable__label {background-color: #d4ebff;}#sk-container-id-1 div.sk-serial::before {content: \"\";position: absolute;border-left: 1px solid gray;box-sizing: border-box;top: 0;bottom: 0;left: 50%;z-index: 0;}#sk-container-id-1 div.sk-serial {display: flex;flex-direction: column;align-items: center;background-color: white;padding-right: 0.2em;padding-left: 0.2em;position: relative;}#sk-container-id-1 div.sk-item {position: relative;z-index: 1;}#sk-container-id-1 div.sk-parallel {display: flex;align-items: stretch;justify-content: center;background-color: white;position: relative;}#sk-container-id-1 div.sk-item::before, #sk-container-id-1 div.sk-parallel-item::before {content: \"\";position: absolute;border-left: 1px solid gray;box-sizing: border-box;top: 0;bottom: 0;left: 50%;z-index: -1;}#sk-container-id-1 div.sk-parallel-item {display: flex;flex-direction: column;z-index: 1;position: relative;background-color: white;}#sk-container-id-1 div.sk-parallel-item:first-child::after {align-self: flex-end;width: 50%;}#sk-container-id-1 div.sk-parallel-item:last-child::after {align-self: flex-start;width: 50%;}#sk-container-id-1 div.sk-parallel-item:only-child::after {width: 0;}#sk-container-id-1 div.sk-dashed-wrapped {border: 1px dashed gray;margin: 0 0.4em 0.5em 0.4em;box-sizing: border-box;padding-bottom: 0.4em;background-color: white;}#sk-container-id-1 div.sk-label label {font-family: monospace;font-weight: bold;display: inline-block;line-height: 1.2em;}#sk-container-id-1 div.sk-label-container {text-align: center;}#sk-container-id-1 div.sk-container {/* jupyter's `normalize.less` sets `[hidden] { display: none; }` but bootstrap.min.css set `[hidden] { display: none !important; }` so we also need the `!important` here to be able to override the default hidden behavior on the sphinx rendered scikit-learn.org. See: https://github.com/scikit-learn/scikit-learn/issues/21755 */display: inline-block !important;position: relative;}#sk-container-id-1 div.sk-text-repr-fallback {display: none;}</style><div id=\"sk-container-id-1\" class=\"sk-top-container\"><div class=\"sk-text-repr-fallback\"><pre>GaussianNB()</pre><b>In a Jupyter environment, please rerun this cell to show the HTML representation or trust the notebook. <br />On GitHub, the HTML representation is unable to render, please try loading this page with nbviewer.org.</b></div><div class=\"sk-container\" hidden><div class=\"sk-item\"><div class=\"sk-estimator sk-toggleable\"><input class=\"sk-toggleable__control sk-hidden--visually\" id=\"sk-estimator-id-1\" type=\"checkbox\" checked><label for=\"sk-estimator-id-1\" class=\"sk-toggleable__label sk-toggleable__label-arrow\">GaussianNB</label><div class=\"sk-toggleable__content\"><pre>GaussianNB()</pre></div></div></div></div></div>"
      ],
      "text/plain": [
       "GaussianNB()"
      ]
     },
     "execution_count": 18,
     "metadata": {},
     "output_type": "execute_result"
    }
   ],
   "source": [
    "gnb = GaussianNB()\n",
    "gnb.fit(wv_train_data, y_train)\n"
   ]
  },
  {
   "cell_type": "code",
   "execution_count": 19,
   "id": "d94b2495",
   "metadata": {
    "execution": {
     "iopub.execute_input": "2024-04-28T19:22:42.715696Z",
     "iopub.status.busy": "2024-04-28T19:22:42.715189Z",
     "iopub.status.idle": "2024-04-28T19:22:42.903409Z",
     "shell.execute_reply": "2024-04-28T19:22:42.902288Z"
    },
    "papermill": {
     "duration": 1.290224,
     "end_time": "2024-04-28T19:22:42.906011",
     "exception": false,
     "start_time": "2024-04-28T19:22:41.615787",
     "status": "completed"
    },
    "tags": []
   },
   "outputs": [
    {
     "name": "stdout",
     "output_type": "stream",
     "text": [
      "gnb_score : 0.6948853615520282\n"
     ]
    }
   ],
   "source": [
    "wv_test_data = []\n",
    "for tokenized_post in X_test:\n",
    "    if tokenized_post:  #some may be empty bcs of stopword removal\n",
    "        wv_test_data.append(wv.get_mean_vector(tokenized_post)) #get mean vector embedding for every post\n",
    "prediction = gnb.predict(wv_test_data)\n",
    "gnb_score=accuracy_score(y_test,prediction)\n",
    "print(\"gnb_score :\",gnb_score)"
   ]
  },
  {
   "cell_type": "markdown",
   "id": "0823982c",
   "metadata": {
    "papermill": {
     "duration": 1.09168,
     "end_time": "2024-04-28T19:22:45.045853",
     "exception": false,
     "start_time": "2024-04-28T19:22:43.954173",
     "status": "completed"
    },
    "tags": []
   },
   "source": [
    "# LSTM :)"
   ]
  },
  {
   "cell_type": "code",
   "execution_count": null,
   "id": "431c6ba2",
   "metadata": {
    "execution": {
     "iopub.execute_input": "2024-04-03T13:59:12.114411Z",
     "iopub.status.busy": "2024-04-03T13:59:12.113957Z",
     "iopub.status.idle": "2024-04-03T13:59:12.119903Z",
     "shell.execute_reply": "2024-04-03T13:59:12.118668Z",
     "shell.execute_reply.started": "2024-04-03T13:59:12.114343Z"
    },
    "papermill": {
     "duration": 1.072616,
     "end_time": "2024-04-28T19:22:47.220220",
     "exception": false,
     "start_time": "2024-04-28T19:22:46.147604",
     "status": "completed"
    },
    "tags": []
   },
   "outputs": [],
   "source": []
  },
  {
   "cell_type": "code",
   "execution_count": null,
   "id": "36e22c84",
   "metadata": {
    "papermill": {
     "duration": 1.095367,
     "end_time": "2024-04-28T19:22:49.434310",
     "exception": false,
     "start_time": "2024-04-28T19:22:48.338943",
     "status": "completed"
    },
    "tags": []
   },
   "outputs": [],
   "source": []
  },
  {
   "cell_type": "markdown",
   "id": "d02a2cbf",
   "metadata": {
    "execution": {
     "iopub.execute_input": "2024-04-03T14:16:35.848371Z",
     "iopub.status.busy": "2024-04-03T14:16:35.847310Z",
     "iopub.status.idle": "2024-04-03T14:16:35.919180Z",
     "shell.execute_reply": "2024-04-03T14:16:35.917392Z",
     "shell.execute_reply.started": "2024-04-03T14:16:35.848317Z"
    },
    "papermill": {
     "duration": 1.0502,
     "end_time": "2024-04-28T19:22:51.586539",
     "exception": false,
     "start_time": "2024-04-28T19:22:50.536339",
     "status": "completed"
    },
    "tags": []
   },
   "source": [
    "# Initialize the Gaussian Naive Bayes classifier\n",
    "gnb = GaussianNB()\n",
    "\n",
    "# Initialize variables to store the total accuracy across all folds\n",
    "total_accuracy = 0.0\n",
    "\n",
    "# Iterate over the folds\n",
    "for train_index, test_index in split_data:\n",
    "    X_train, X_test = X[train_index], X[test_index]\n",
    "    y_train, y_test = y[train_index], y[test_index]\n",
    "\n",
    "    # Fit the model on the training data\n",
    "    gnb.fit(X_train, y_train)\n",
    "\n",
    "    # Make predictions on the test data\n",
    "    y_pred = gnb.predict(X_test)\n",
    "\n",
    "    # Calculate accuracy for this fold\n",
    "    fold_accuracy = accuracy_score(y_test, y_pred)\n",
    "\n",
    "    # Accumulate accuracy for all folds\n",
    "    total_accuracy += fold_accuracy\n",
    "\n",
    "    # Print accuracy for this fold\n",
    "    print(\"Accuracy for this fold:\", fold_accuracy)\n",
    "\n",
    "# Calculate average accuracy across all folds\n",
    "average_accuracy = total_accuracy / skf.n_splits\n",
    "\n",
    "print(\"Average Accuracy:\", average_accuracy)\n",
    "\n"
   ]
  },
  {
   "cell_type": "markdown",
   "id": "8e674fb0",
   "metadata": {
    "execution": {
     "iopub.execute_input": "2024-04-03T14:06:48.096940Z",
     "iopub.status.busy": "2024-04-03T14:06:48.096543Z",
     "iopub.status.idle": "2024-04-03T14:06:51.090569Z",
     "shell.execute_reply": "2024-04-03T14:06:51.089481Z",
     "shell.execute_reply.started": "2024-04-03T14:06:48.096911Z"
    },
    "papermill": {
     "duration": 1.095523,
     "end_time": "2024-04-28T19:22:53.778759",
     "exception": false,
     "start_time": "2024-04-28T19:22:52.683236",
     "status": "completed"
    },
    "tags": []
   },
   "source": [
    "# initialize the naive bayes classifier\n",
    "gnb1 = GaussianNB()\n",
    "gnb2 = GaussianNB()\n",
    "\n",
    "#fitting the nb for bag of words\n",
    "gnb_bow=gnb1.fit(bow_train.toarray(), y_train)\n",
    "print(gnb_bow)\n",
    "#fitting the nb for tfidf features\n",
    "gnb_bon=gnb2.fit(bon_train.toarray(), y_train)\n",
    "print(gnb_bon)\n"
   ]
  },
  {
   "cell_type": "markdown",
   "id": "acd0a59b",
   "metadata": {
    "execution": {
     "iopub.execute_input": "2024-04-03T14:06:55.436602Z",
     "iopub.status.busy": "2024-04-03T14:06:55.435908Z",
     "iopub.status.idle": "2024-04-03T14:06:56.405324Z",
     "shell.execute_reply": "2024-04-03T14:06:56.404241Z",
     "shell.execute_reply.started": "2024-04-03T14:06:55.436564Z"
    },
    "papermill": {
     "duration": 1.105666,
     "end_time": "2024-04-28T19:22:55.938091",
     "exception": false,
     "start_time": "2024-04-28T19:22:54.832425",
     "status": "completed"
    },
    "tags": []
   },
   "source": [
    "#Predicting the model for bag of words\n",
    "gnb_bow_predict = gnb_bow.predict(bow_test.toarray())\n",
    "\n",
    "#Predicting the model for bag of ngrams\n",
    "gnb_bon_predict = gnb_bon.predict(bon_test.toarray())\n"
   ]
  },
  {
   "cell_type": "markdown",
   "id": "05d58576",
   "metadata": {
    "execution": {
     "iopub.execute_input": "2024-04-28T19:04:53.103938Z",
     "iopub.status.busy": "2024-04-28T19:04:53.103560Z",
     "iopub.status.idle": "2024-04-28T19:04:53.139712Z",
     "shell.execute_reply": "2024-04-28T19:04:53.138298Z",
     "shell.execute_reply.started": "2024-04-28T19:04:53.103911Z"
    },
    "papermill": {
     "duration": 1.128502,
     "end_time": "2024-04-28T19:22:58.135422",
     "exception": false,
     "start_time": "2024-04-28T19:22:57.006920",
     "status": "completed"
    },
    "tags": []
   },
   "source": [
    "#Accuracy score for bag of words\n",
    "gnb_bow_score=accuracy_score(y_test,gnb_bow_predict)\n",
    "print(\"gnb_bow_score :\",gnb_bow_score)\n",
    "#Accuracy score for tfidf features\n",
    "gnb_bon_score=accuracy_score(y_test,gnb_bon_predict)\n",
    "print(\"gnb_bon_score :\",gnb_bon_score)"
   ]
  },
  {
   "cell_type": "code",
   "execution_count": null,
   "id": "bf23f0fd",
   "metadata": {
    "papermill": {
     "duration": 1.098142,
     "end_time": "2024-04-28T19:23:00.301978",
     "exception": false,
     "start_time": "2024-04-28T19:22:59.203836",
     "status": "completed"
    },
    "tags": []
   },
   "outputs": [],
   "source": []
  }
 ],
 "metadata": {
  "kaggle": {
   "accelerator": "none",
   "dataSources": [
    {
     "datasetId": 2961947,
     "sourceId": 5100130,
     "sourceType": "datasetVersion"
    }
   ],
   "dockerImageVersionId": 30646,
   "isGpuEnabled": false,
   "isInternetEnabled": true,
   "language": "python",
   "sourceType": "notebook"
  },
  "kernelspec": {
   "display_name": "Python 3",
   "language": "python",
   "name": "python3"
  },
  "language_info": {
   "codemirror_mode": {
    "name": "ipython",
    "version": 3
   },
   "file_extension": ".py",
   "mimetype": "text/x-python",
   "name": "python",
   "nbconvert_exporter": "python",
   "pygments_lexer": "ipython3",
   "version": "3.10.13"
  },
  "papermill": {
   "default_parameters": {},
   "duration": 182.846431,
   "end_time": "2024-04-28T19:23:04.013398",
   "environment_variables": {},
   "exception": null,
   "input_path": "__notebook__.ipynb",
   "output_path": "__notebook__.ipynb",
   "parameters": {},
   "start_time": "2024-04-28T19:20:01.166967",
   "version": "2.5.0"
  }
 },
 "nbformat": 4,
 "nbformat_minor": 5
}
